{
 "cells": [
  {
   "cell_type": "code",
   "execution_count": 1,
   "metadata": {},
   "outputs": [],
   "source": [
    "import numpy as np"
   ]
  },
  {
   "cell_type": "code",
   "execution_count": 3,
   "metadata": {},
   "outputs": [
    {
     "data": {
      "text/plain": [
       "array([[[0.30330256, 0.41846728, 0.69623816, 0.05007753],\n",
       "        [0.71297916, 0.92490919, 0.77109892, 0.3873521 ],\n",
       "        [0.85832798, 0.78649651, 0.13370443, 0.95604256]],\n",
       "\n",
       "       [[0.93322181, 0.12941934, 0.67637193, 0.69885988],\n",
       "        [0.88574069, 0.26758406, 0.15032769, 0.32390954],\n",
       "        [0.12777188, 0.3762153 , 0.80478355, 0.18824842]]])"
      ]
     },
     "execution_count": 3,
     "metadata": {},
     "output_type": "execute_result"
    }
   ],
   "source": [
    "x = np.random.rand(2,3,4)\n",
    "x"
   ]
  },
  {
   "cell_type": "code",
   "execution_count": 5,
   "metadata": {},
   "outputs": [],
   "source": [
    "x[:, :6, :] -= np.mean(x[:, :6, :], axis=2, keepdims=True)"
   ]
  },
  {
   "cell_type": "code",
   "execution_count": 6,
   "metadata": {},
   "outputs": [
    {
     "data": {
      "text/plain": [
       "array([[[ 2.77555756e-17],\n",
       "        [-5.55111512e-17],\n",
       "        [ 5.55111512e-17]],\n",
       "\n",
       "       [[ 5.55111512e-17],\n",
       "        [ 0.00000000e+00],\n",
       "        [ 0.00000000e+00]]])"
      ]
     },
     "execution_count": 6,
     "metadata": {},
     "output_type": "execute_result"
    }
   ],
   "source": [
    "x[:, 6:, :] = x[:, 6:, :] * 2.0 - 1.0"
   ]
  },
  {
   "cell_type": "code",
   "execution_count": 7,
   "metadata": {},
   "outputs": [
    {
     "data": {
      "text/plain": [
       "array([[[-0.06371882,  0.0514459 ,  0.32921678, -0.31694385],\n",
       "        [ 0.01389432,  0.22582435,  0.07201408, -0.31173274],\n",
       "        [ 0.17468511,  0.10285364, -0.54993844,  0.27239969]],\n",
       "\n",
       "       [[ 0.32375357, -0.4800489 ,  0.06690369,  0.08939164],\n",
       "        [ 0.4788502 , -0.13930644, -0.25656281, -0.08298096],\n",
       "        [-0.24648291,  0.00196051,  0.43052876, -0.18600636]]])"
      ]
     },
     "execution_count": 7,
     "metadata": {},
     "output_type": "execute_result"
    }
   ],
   "source": [
    "x"
   ]
  },
  {
   "cell_type": "code",
   "execution_count": 8,
   "metadata": {},
   "outputs": [
    {
     "data": {
      "text/plain": [
       "9.99999993922529e-09"
      ]
     },
     "execution_count": 8,
     "metadata": {},
     "output_type": "execute_result"
    }
   ],
   "source": []
  },
  {
   "cell_type": "code",
   "execution_count": null,
   "metadata": {},
   "outputs": [],
   "source": []
  }
 ],
 "metadata": {
  "kernelspec": {
   "display_name": "Python 3",
   "language": "python",
   "name": "python3"
  },
  "language_info": {
   "codemirror_mode": {
    "name": "ipython",
    "version": 3
   },
   "file_extension": ".py",
   "mimetype": "text/x-python",
   "name": "python",
   "nbconvert_exporter": "python",
   "pygments_lexer": "ipython3",
   "version": "3.5.5"
  }
 },
 "nbformat": 4,
 "nbformat_minor": 2
}
