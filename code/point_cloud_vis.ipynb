{
 "cells": [
  {
   "cell_type": "code",
   "execution_count": 1,
   "metadata": {},
   "outputs": [],
   "source": [
    "import torch\n",
    "import numpy as np\n",
    "import sklearn\n",
    "import os\n",
    "from architecture import PointNetSegmentation\n",
    "import pandas as pd\n",
    "from pyntcloud import PyntCloud"
   ]
  },
  {
   "cell_type": "code",
   "execution_count": 19,
   "metadata": {},
   "outputs": [
    {
     "name": "stdout",
     "output_type": "stream",
     "text": [
      "Loading data... Done\n",
      "Test Accuracy: 0.8368\n"
     ]
    }
   ],
   "source": [
    "print('Loading data... ', end='')\n",
    "data_dir = '../dataset/S3DIS'\n",
    "f = np.load(os.path.join(data_dir, 'data_test.npz'))\n",
    "data, labels = sklearn.utils.shuffle(f['data'], f['labels'], random_state=19260817)\n",
    "in_features = data.shape[1]\n",
    "batch_size=32\n",
    "\n",
    "if not torch.cuda.is_available():\n",
    "    data = data[:2*batch_size, ...]\n",
    "    labels = labels[:2*batch_size, ...]\n",
    "\n",
    "# zero-center xyz and rgb\n",
    "data[:, :6, :] -= np.mean(data[:, :6, :], axis=2, keepdims=True)\n",
    "# zero-center location\n",
    "data[:, 6:, :] = data[:, 6:, :] * 2.0 - 1.0\n",
    "\n",
    "X = torch.from_numpy(data.astype(np.float32))\n",
    "t = torch.from_numpy(labels.astype(np.int64))\n",
    "\n",
    "print('Done')\n",
    "\n",
    "if torch.cuda.is_available():\n",
    "    pn_segment = PointNetSegmentation(in_features=in_features, num_classes=13).cuda()\n",
    "    pn_segment.load_state_dict(torch.load('../results/segmentation/93.40/PointNetSegment.pt'))\n",
    "else:\n",
    "    pn_segment = PointNetSegmentation(in_features=in_features, num_classes=13)\n",
    "    pn_segment.load_state_dict(torch.load('../results/segmentation/93.40/PointNetSegment.pt', map_location=lambda storage, location: storage))\n",
    "\n",
    "\n",
    "pn_segment.train(False)\n",
    "num_batches = X.shape[0] // batch_size\n",
    "corr = []\n",
    "y = []\n",
    "for bn in range(num_batches):\n",
    "    X_batch = torch.autograd.Variable(X[bn * batch_size: bn * batch_size + batch_size, ...])\n",
    "    t_batch = t[bn * batch_size: bn * batch_size + batch_size, ...]\n",
    "    if torch.cuda.is_available():\n",
    "        X_batch = X_batch.cuda()\n",
    "        t_batch = t_batch.cuda()\n",
    "    y_batch = pn_segment(X_batch)[0].data.max(1)[1]\n",
    "    corr.append((y_batch == t_batch).cpu().numpy().sum(1) / X.shape[2])\n",
    "    y.append(y_batch.cpu().numpy())\n",
    "\n",
    "acc = np.concatenate(corr) # num_images\n",
    "X_test = np.transpose(X.numpy(), (0, 2, 1)) # num_images x num_points x 9\n",
    "y_test = np.concatenate(y, axis=0) # num_images x num_points\n",
    "t_test = t.numpy() # num_images x num_points\n",
    "print('Test Accuracy: {:.4f}'.format(acc.sum() / X.shape[0]))"
   ]
  },
  {
   "cell_type": "code",
   "execution_count": 5,
   "metadata": {},
   "outputs": [],
   "source": [
    "classes = ['ceiling', 'floor', 'wall', 'beam', 'column', 'window', 'door', 'table', 'chair', 'sofa', 'bookcase', 'board', 'clutter']\n",
    "class2color = {'ceiling':     [0,255,0],\n",
    "               'floor':       [0,0,255],\n",
    "               'wall':        [0,255,255],\n",
    "               'beam':        [255,255,0],\n",
    "               'column':      [255,0,255],\n",
    "               'window':      [100,100,255],\n",
    "               'door':        [200,200,100],\n",
    "               'table':       [170,120,200],\n",
    "               'chair':       [255,0,0],\n",
    "               'sofa':        [200,100,100],\n",
    "               'bookcase':    [10,200,100],\n",
    "               'board':       [200,200,200],\n",
    "               'clutter':     [50,50,50]}\n",
    "label2color = [class2color[c] for c in classes]"
   ]
  },
  {
   "cell_type": "code",
   "execution_count": 30,
   "metadata": {},
   "outputs": [
    {
     "name": "stdout",
     "output_type": "stream",
     "text": [
      "Sample 56 Accuracy: 0.9773\n"
     ]
    },
    {
     "data": {
      "text/html": [
       "\n",
       "        <iframe\n",
       "            width=\"800\"\n",
       "            height=\"500\"\n",
       "            src=\"pyntcloud_plot.html\"\n",
       "            frameborder=\"0\"\n",
       "            allowfullscreen\n",
       "        ></iframe>\n",
       "        "
      ],
      "text/plain": [
       "<IPython.lib.display.IFrame at 0x1a1199aba8>"
      ]
     },
     "execution_count": 30,
     "metadata": {},
     "output_type": "execute_result"
    }
   ],
   "source": [
    "i = 56\n",
    "print('Sample {} Accuracy: {:.4f}'.format(i, acc[i]))\n",
    "positions = X_test[i][:, :3] # num_points * 3\n",
    "points = pd.DataFrame(positions, columns=['x', 'y', 'z'])\n",
    "\n",
    "colors = list(map(lambda x : label2color[x], y_test[i])) # num_points * 3 (uint8)\n",
    "points[['red', 'blue', 'green']] = pd.DataFrame(colors, index=points.index)\n",
    "\n",
    "cloud = PyntCloud(points)\n",
    "cloud.plot(point_size=0.03)"
   ]
  },
  {
   "cell_type": "code",
   "execution_count": 31,
   "metadata": {},
   "outputs": [
    {
     "data": {
      "text/html": [
       "\n",
       "        <iframe\n",
       "            width=\"800\"\n",
       "            height=\"500\"\n",
       "            src=\"pyntcloud_plot.html\"\n",
       "            frameborder=\"0\"\n",
       "            allowfullscreen\n",
       "        ></iframe>\n",
       "        "
      ],
      "text/plain": [
       "<IPython.lib.display.IFrame at 0x1a11961550>"
      ]
     },
     "execution_count": 31,
     "metadata": {},
     "output_type": "execute_result"
    }
   ],
   "source": [
    "colors = list(map(lambda x : label2color[x], t_test[i]))\n",
    "points[['red', 'blue', 'green']] = pd.DataFrame(colors, index=points.index)\n",
    "\n",
    "cloud = PyntCloud(points)\n",
    "cloud.plot(point_size=0.03)"
   ]
  },
  {
   "cell_type": "code",
   "execution_count": null,
   "metadata": {},
   "outputs": [],
   "source": []
  }
 ],
 "metadata": {
  "kernelspec": {
   "display_name": "Python 3",
   "language": "python",
   "name": "python3"
  },
  "language_info": {
   "codemirror_mode": {
    "name": "ipython",
    "version": 3
   },
   "file_extension": ".py",
   "mimetype": "text/x-python",
   "name": "python",
   "nbconvert_exporter": "python",
   "pygments_lexer": "ipython3",
   "version": "3.5.5"
  }
 },
 "nbformat": 4,
 "nbformat_minor": 2
}
