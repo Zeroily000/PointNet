{
 "cells": [
  {
   "cell_type": "code",
   "execution_count": 3,
   "metadata": {},
   "outputs": [
    {
     "name": "stdout",
     "output_type": "stream",
     "text": [
      "Loading data... Done\n",
      "Batch 1/2\n",
      "Batch 2/2\n",
      "IoU_0: 0.9245\n",
      "IoU_1: 0.9856\n",
      "IoU_2: 0.6265\n",
      "IoU_3: 0.4146\n",
      "IoU_4: 0.3376\n",
      "IoU_5: 0.0000\n",
      "IoU_6: 0.5550\n",
      "IoU_7: 0.3528\n",
      "IoU_8: 0.3442\n",
      "IoU_9: 0.2815\n",
      "IoU_10: 0.0000\n",
      "IoU_11: 0.0000\n",
      "IoU_12: 0.4122\n",
      "\n",
      "Mean IoU: 0.4026\n",
      "Overall Accuracy: 0.8368\n"
     ]
    },
    {
     "data": {
      "image/png": "[encoded data removed]",
      "text/plain": [
       "<Figure size 576x576 with 1 Axes>"
      ]
     },
     "metadata": {},
     "output_type": "display_data"
    }
   ],
   "source": [
    "import torch\n",
    "import numpy as np\n",
    "import sklearn\n",
    "import os, random, multiprocessing\n",
    "import matplotlib.pyplot as plt\n",
    "import trimesh\n",
    "from architecture import PointNetSegmentation\n",
    "\n",
    "\n",
    "print('Loading data... ', end='')\n",
    "cats = ['ceiling', 'floor', 'wall', 'beam', 'column', 'window', 'door', 'table', 'chair', 'sofa', 'bookcase', 'board', 'clutter']\n",
    "data_dir = '../dataset/S3DIS'\n",
    "f = np.load(os.path.join(data_dir, 'data_test.npz'))\n",
    "data, labels = sklearn.utils.shuffle(f['data'], f['labels'], random_state=19260817)\n",
    "in_features = data.shape[1]\n",
    "batch_size = 32\n",
    "\n",
    "if not torch.cuda.is_available():\n",
    "    data = data[:2*batch_size, ...]\n",
    "    labels = labels[:2*batch_size, ...]\n",
    "\n",
    "# zero-center xyz and rgb\n",
    "data[:, :6, :] -= np.mean(data[:, :6, :], axis=2, keepdims=True)\n",
    "# zero-center location\n",
    "data[:, 6:, :] = data[:, 6:, :] * 2.0 - 1.0\n",
    "\n",
    "X = torch.from_numpy(data.astype(np.float32))\n",
    "t = torch.from_numpy(labels.astype(np.int64))\n",
    "\n",
    "print('Done')\n",
    "\n",
    "\n",
    "if torch.cuda.is_available():\n",
    "    pn_segment = PointNetSegmentation(in_features=in_features, num_classes=13).cuda()\n",
    "    pn_segment.load_state_dict(torch.load('../results/segmentation/93.40/PointNetSegment.pt'))\n",
    "else:\n",
    "    pn_segment = PointNetSegmentation(in_features=in_features, num_classes=13)\n",
    "    pn_segment.load_state_dict(torch.load('../results/segmentation/93.40/PointNetSegment.pt', map_location=lambda storage, location: storage))\n",
    "\n",
    "\n",
    "pn_segment.train(False)\n",
    "num_batches = X.shape[0] // batch_size\n",
    "C = np.zeros((13, 13))\n",
    "y = []\n",
    "for bn in range(num_batches):\n",
    "    print('Batch {}/{}'.format(bn + 1, num_batches))\n",
    "    X_batch = torch.autograd.Variable(X[bn * batch_size: bn * batch_size + batch_size, ...])\n",
    "    t_batch = t[bn * batch_size: bn * batch_size + batch_size, ...]\n",
    "    if torch.cuda.is_available():\n",
    "        X_batch = X_batch.cuda()\n",
    "        t_batch = t_batch.cuda()\n",
    "    y_batch = pn_segment(X_batch)[0].data.max(1)[1]\n",
    "    y.append(y_batch.cpu().numpy())\n",
    "    for i in range(13):\n",
    "        for j in range(13):\n",
    "            C[i, j] += np.logical_and(t_batch == i, y_batch == j).sum()\n",
    "\n",
    "IoU = np.zeros(13)\n",
    "for i in range(13):\n",
    "    IoU[i] = C[i, i] / (C[i, :].sum() + C[:, i].sum() - C[i, i])\n",
    "    print('IoU_{}: {:.4f}'.format(i, IoU[i]))\n",
    "print('\\nMean IoU: {:.4f}'.format(IoU.mean()))\n",
    "print('Overall Accuracy: {:.4f}'.format(np.diag(C).sum() / C.sum()))\n",
    "\n",
    "\n",
    "plt.figure(figsize=(8,8))\n",
    "plt.imshow(C)\n",
    "plt.xticks(np.arange(len(cats)), cats, rotation='vertical')\n",
    "plt.yticks(np.arange(len(cats)), cats)\n",
    "plt.show()\n",
    "\n",
    "\n",
    "cat2clr = {'ceiling':     [0,255,0],\n",
    "           'floor':       [0,0,255],\n",
    "           'wall':        [0,255,255],\n",
    "           'beam':        [255,255,0],\n",
    "           'column':      [255,0,255],\n",
    "           'window':      [100,100,255],\n",
    "           'door':        [200,200,100],\n",
    "           'table':       [170,120,200],\n",
    "           'chair':       [255,0,0],\n",
    "           'sofa':        [200,100,100],\n",
    "           'bookcase':    [10,200,100],\n",
    "           'board':       [200,200,200],\n",
    "           'clutter':     [50,50,50]}\n",
    "lab2clr = [cat2clr[c] for c in cats]\n",
    "\n",
    "X_test = np.transpose(X.numpy(), (0, 2, 1)) # num_images x num_points x 9\n",
    "y_test = np.concatenate(y, axis=0) # num_images x num_points\n",
    "t_test = t[:y_test.shape[0]].numpy()"
   ]
  },
  {
   "cell_type": "code",
   "execution_count": 7,
   "metadata": {},
   "outputs": [],
   "source": [
    "# i = random.randrange(y_test.shape[0])\n",
    "i = 56\n",
    "points1 = trimesh.points.PointCloud(vertices = X_test[i, :, :3], color = list(map(lambda x : lab2clr[x], y_test[i, :])))\n",
    "points2 = trimesh.points.PointCloud(vertices = X_test[i, :, :3], color = list(map(lambda x : lab2clr[x], t_test[i, :])))\n",
    "\n",
    "processes = [multiprocessing.Process(target=points1.show), multiprocessing.Process(target=points2.show)]\n",
    "for p in processes:\n",
    "    p.start()\n",
    "for p in processes:\n",
    "    p.join()"
   ]
  },
  {
   "cell_type": "code",
   "execution_count": 5,
   "metadata": {},
   "outputs": [],
   "source": [
    "points = cloud.get_sample(\"mesh_random_sampling\", n=1024)\n"
   ]
  },
  {
   "cell_type": "code",
   "execution_count": 9,
   "metadata": {},
   "outputs": [
    {
     "data": {
      "text/plain": [
       "pandas.core.frame.DataFrame"
      ]
     },
     "execution_count": 9,
     "metadata": {},
     "output_type": "execute_result"
    }
   ],
   "source": [
    "type(points)"
   ]
  },
  {
   "cell_type": "code",
   "execution_count": 7,
   "metadata": {},
   "outputs": [
    {
     "data": {
      "text/html": [
       "\n",
       "        <iframe\n",
       "            width=\"800\"\n",
       "            height=\"500\"\n",
       "            src=\"pyntcloud_plot.html\"\n",
       "            frameborder=\"0\"\n",
       "            allowfullscreen\n",
       "        ></iframe>\n",
       "        "
      ],
      "text/plain": [
       "<IPython.lib.display.IFrame at 0x1a0e22aa90>"
      ]
     },
     "execution_count": 7,
     "metadata": {},
     "output_type": "execute_result"
    }
   ],
   "source": [
    "new_cloud = pyntcloud.PyntCloud(points)\n",
    "new_cloud.plot()"
   ]
  },
  {
   "cell_type": "code",
   "execution_count": 5,
   "metadata": {},
   "outputs": [],
   "source": [
    "# load train file paths\n",
    "paths = [(root, filename) for root, _, files in os.walk(dataset, topdown=False) for filename in files if\n",
    "         dataset_type in root and '.off' in filename]\n",
    "\n",
    "data, labels = [], []\n",
    "for i, (root, filename) in enumerate(paths):\n",
    "    file_dir = os.path.join(root, filename)\n",
    "    with open(file_dir, 'r') as f:\n",
    "        lines = f.readlines()\n",
    "        f.close()\n",
    "    if lines[0].strip() != 'OFF':\n",
    "        lines[0] = lines[0].replace('OFF', '')\n",
    "        lines = ['OFF\\n'] + lines\n",
    "        with open(file_dir, 'w') as f:\n",
    "            f.writelines(lines)\n",
    "            f.close()\n",
    "\n",
    "    mesh = trimesh.load(file_dir)\n",
    "    samples = sample_surface(mesh, num_points)[0]  # num_points x 3\n",
    "    data.append(samples)\n",
    "    labels.append(cat2lab[root.split('/')[-2]])\n",
    "\n",
    "data = np.array(data)  # np.array: num_images x num_points x 3\n",
    "\n",
    "# zero-center\n",
    "data -= np.mean(data, axis=1, keepdims=True)\n",
    "\n",
    "# normalize\n",
    "data /= np.max(np.linalg.norm(data, ord=2, axis=2, keepdims=True), axis=1, keepdims=True)"
   ]
  },
  {
   "cell_type": "code",
   "execution_count": null,
   "metadata": {},
   "outputs": [],
   "source": []
  }
 ],
 "metadata": {
  "kernelspec": {
   "display_name": "Python 3",
   "language": "python",
   "name": "python3"
  },
  "language_info": {
   "codemirror_mode": {
    "name": "ipython",
    "version": 3
   },
   "file_extension": ".py",
   "mimetype": "text/x-python",
   "name": "python",
   "nbconvert_exporter": "python",
   "pygments_lexer": "ipython3",
   "version": "3.5.5"
  }
 },
 "nbformat": 4,
 "nbformat_minor": 2
}
